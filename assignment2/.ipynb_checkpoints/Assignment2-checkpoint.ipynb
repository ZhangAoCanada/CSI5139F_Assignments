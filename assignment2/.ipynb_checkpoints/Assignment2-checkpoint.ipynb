{
 "cells": [
  {
   "cell_type": "code",
   "execution_count": 1,
   "metadata": {},
   "outputs": [
    {
     "name": "stdout",
     "output_type": "stream",
     "text": [
      "Python 3.5.2\r\n"
     ]
    }
   ],
   "source": [
    "!python3 --version"
   ]
  },
  {
   "cell_type": "code",
   "execution_count": 2,
   "metadata": {},
   "outputs": [
    {
     "name": "stdout",
     "output_type": "stream",
     "text": [
      "Image shape is: \t (64, 64, 3)\n"
     ]
    },
    {
     "data": {
      "text/plain": [
       "<Figure size 640x480 with 4 Axes>"
      ]
     },
     "metadata": {},
     "output_type": "display_data"
    },
    {
     "data": {
      "text/plain": [
       "<Figure size 640x480 with 4 Axes>"
      ]
     },
     "metadata": {},
     "output_type": "display_data"
    }
   ],
   "source": [
    "from skimage.io import imread\n",
    "from skimage.transform import resize\n",
    "import numpy as np\n",
    "import matplotlib.pyplot as plt\n",
    "\n",
    "def GetImagePath(sub, sess, frame):\n",
    "    \"\"\"\n",
    "    Function: get image path name according to the inputs\n",
    "    \"\"\"\n",
    "    # read the image path\n",
    "    folder_name = \"sub\" + str(sub) + \"_session\" + str(sess)\n",
    "    image_path = folder_name + \"/\" + folder_name + \"_frame\" + str(frame) + \".png\"\n",
    "    \n",
    "    return image_path\n",
    "\n",
    "def ReadImage(image_path):\n",
    "    \"\"\"\n",
    "    Function:\n",
    "        Read and resize images with specific subname, session name and frame name.\n",
    "    \"\"\"\n",
    "    # read the image\n",
    "    image = imread(image_path)\n",
    "    # resize the image\n",
    "    output_size = (64, 64)\n",
    "    image = resize(image, output_size)\n",
    "    \n",
    "    return image\n",
    "\n",
    "\n",
    "# define all the sub names, session names, and frame names into np.array\n",
    "sub_names_train = np.arange(1, 11)\n",
    "sub_names_test = np.concatenate([np.arange(31, 39), np.array([40])], axis = -1)\n",
    "session_names = np.arange(1, 3)\n",
    "frame_names_train = np.arange(1, 24)\n",
    "frame_names_test = np.arange(1, 25)\n",
    "\n",
    "# image examples, for visualization and some tests\n",
    "# same faces\n",
    "path_example_1 = GetImagePath(sub_names_train[0], session_names[0], frame_names_train[0])\n",
    "image_example_1 = ReadImage(path_example_1)\n",
    "path_example_2 = GetImagePath(sub_names_train[0], session_names[1], frame_names_train[0])\n",
    "image_example_2 = ReadImage(path_example_2)\n",
    "path_example_3 = GetImagePath(sub_names_train[0], session_names[0], frame_names_train[10])\n",
    "image_example_3 = ReadImage(path_example_3)\n",
    "path_example_4 = GetImagePath(sub_names_train[0], session_names[0], frame_names_train[22])\n",
    "image_example_4 = ReadImage(path_example_4)\n",
    "# different faces\n",
    "path_example_5 = GetImagePath(sub_names_train[1], session_names[0], frame_names_train[0])\n",
    "image_example_5 = ReadImage(path_example_5)\n",
    "path_example_6 = GetImagePath(sub_names_train[5], session_names[0], frame_names_train[5])\n",
    "image_example_6 = ReadImage(path_example_6)\n",
    "path_example_7 = GetImagePath(sub_names_test[5], session_names[0], frame_names_test[22])\n",
    "image_example_7 = ReadImage(path_example_7)\n",
    "\n",
    "# print out the shape of the image\n",
    "print(\"Image shape is: \\t\", image_example_1.shape)\n",
    "\n",
    "# same faces test\n",
    "fig = plt.figure()\n",
    "ax1 = fig.add_subplot(141)\n",
    "ax2 = fig.add_subplot(142)\n",
    "ax3 = fig.add_subplot(143)\n",
    "ax4 = fig.add_subplot(144)\n",
    "ax1.imshow(image_example_1)\n",
    "ax2.imshow(image_example_2)\n",
    "ax3.imshow(image_example_3)\n",
    "ax4.imshow(image_example_4)\n",
    "plt.show()\n",
    "\n",
    "# different faces test\n",
    "fig = plt.figure()\n",
    "ax1 = fig.add_subplot(141)\n",
    "ax2 = fig.add_subplot(142)\n",
    "ax3 = fig.add_subplot(143)\n",
    "ax4 = fig.add_subplot(144)\n",
    "ax1.imshow(image_example_1)\n",
    "ax2.imshow(image_example_5)\n",
    "ax3.imshow(image_example_6)\n",
    "ax4.imshow(image_example_7)\n",
    "plt.show()\n"
   ]
  },
  {
   "cell_type": "code",
   "execution_count": 3,
   "metadata": {},
   "outputs": [
    {
     "name": "stdout",
     "output_type": "stream",
     "text": [
      "---------------------------------- same faces ------------------------------------\n",
      "NCC:1.0 \t \t \t Conv:84.91780926074851 \t SSD:0.0\n",
      "NCC:0.7177882918040279 \t \t Conv:34.39739781668252 \t SSD:266.91643021914643\n",
      "NCC:0.6618261099181423 \t \t Conv:27.32804301155204 \t SSD:294.1769127258746\n",
      "------------------------------- different faces ----------------------------------\n",
      "NCC:0.5338608734949605 \t \t Conv:60.85439800187653 \t SSD:163.69754036908876\n",
      "NCC:0.2861959200424425 \t \t Conv:17.488654840536064 \t SSD:252.9331487889273\n",
      "NCC:0.38768792843956684 \t Conv:20.040709458482795 \t SSD:236.74956843521716\n"
     ]
    }
   ],
   "source": [
    "\n",
    "def NormalizedCrossCorrelation(image1, image2):\n",
    "    \"\"\"\n",
    "    Funtion: calculating normalized cross correlation (NCC) between two images\n",
    "    \"\"\"\n",
    "    numerator = np.sum((image1 - np.mean(image1)) * (image2 - np.mean(image2)))\n",
    "    denominator = np.sqrt(np.sum(np.square(image1 - np.mean(image1))) * \\\n",
    "                          np.sum(np.square(image2 - np.mean(image2))))\n",
    "    return numerator / denominator\n",
    "\n",
    "def CrossCorrelation(image1, image2):\n",
    "    \"\"\"\n",
    "    Function: original cross correlation between two images\n",
    "    \"\"\"\n",
    "    return np.sum((image1 - image1.mean()) * (image2 - image2.mean()))\n",
    "\n",
    "def Convolution(image1, image2):\n",
    "    \"\"\"\n",
    "    Funtion: calculating convolution between two images\n",
    "    \"\"\"\n",
    "    return np.sum(np.flip((image1 - image1.mean())) * image2)\n",
    "\n",
    "def SumSquareDifferences(image1, image2):\n",
    "    \"\"\"\n",
    "    Funtion: calculating pixel differences between two images\n",
    "    \"\"\"\n",
    "    return np.sum(np.square(image1 - image2))\n",
    "\n",
    "def CompareAllTricks(image1, image2):\n",
    "    \"\"\"\n",
    "    Function: compare the scores w.r.t 3 methods and choose the best one\n",
    "    \"\"\"\n",
    "    a = NormalizedCrossCorrelation(image1, image2)\n",
    "    b = Convolution(image1, image2)\n",
    "    c = SumSquareDifferences(image1, image2)\n",
    "    return [a, b, c]\n",
    "\n",
    "# try differences betwwen correlation, convolution and squared differences\n",
    "# try with same faces but different illumination\n",
    "compare_example_1 = CompareAllTricks(image_example_1, image_example_2)\n",
    "compare_example_2 = CompareAllTricks(image_example_1, image_example_3)\n",
    "compare_example_3 = CompareAllTricks(image_example_1, image_example_4)\n",
    "# try with different faces with different illumination\n",
    "compare_example_4 = CompareAllTricks(image_example_1, image_example_5)\n",
    "compare_example_5 = CompareAllTricks(image_example_1, image_example_6)\n",
    "compare_example_6 = CompareAllTricks(image_example_1, image_example_7)\n",
    "\n",
    "print(\"---------------------------------- same faces ------------------------------------\")\n",
    "print(\"NCC:{} \\t \\t \\t Conv:{} \\t SSD:{}\".format(compare_example_1[0], compare_example_1[1], compare_example_1[2]))\n",
    "print(\"NCC:{} \\t \\t Conv:{} \\t SSD:{}\".format(compare_example_2[0], compare_example_2[1], compare_example_2[2]))\n",
    "print(\"NCC:{} \\t \\t Conv:{} \\t SSD:{}\".format(compare_example_3[0], compare_example_3[1], compare_example_3[2]))\n",
    "print(\"------------------------------- different faces ----------------------------------\")\n",
    "print(\"NCC:{} \\t \\t Conv:{} \\t SSD:{}\".format(compare_example_4[0], compare_example_4[1], compare_example_4[2]))\n",
    "print(\"NCC:{} \\t \\t Conv:{} \\t SSD:{}\".format(compare_example_5[0], compare_example_5[1], compare_example_5[2]))\n",
    "print(\"NCC:{} \\t Conv:{} \\t SSD:{}\".format(compare_example_6[0], compare_example_6[1], compare_example_6[2]))\n"
   ]
  },
  {
   "cell_type": "code",
   "execution_count": 4,
   "metadata": {},
   "outputs": [
    {
     "name": "stdout",
     "output_type": "stream",
     "text": [
      "------------------------ dataset already exists -------------------------\n"
     ]
    }
   ],
   "source": [
    "import os\n",
    "from tqdm import tqdm\n",
    "\n",
    "# setting NCC threshold according to the experiment above\n",
    "def ClassifyAndSave(im1_path, im2_path):\n",
    "    \"\"\"\n",
    "    Function: \n",
    "        find out whether two image show the same face and save the dataset\n",
    "    \"\"\"\n",
    "    # read images\n",
    "    image1 = ReadImage(im1_path)\n",
    "    image2 = ReadImage(im2_path)\n",
    "    # find pair scores\n",
    "    NCC_score = NormalizedCrossCorrelation(image1, image2)\n",
    "    \n",
    "    return [im1_path, im2_path, str(NCC_score)]\n",
    "\n",
    "def GetAllImagePathes(sub_names, session_names, frame_names):\n",
    "    \"\"\"\n",
    "    Function: get all image pathes from the specific subsets\n",
    "    \"\"\"\n",
    "    # subset 35 and subset 37 have no session 2\n",
    "    sub_no_sess2_test = np.array([35, 37])\n",
    "    # store pathes\n",
    "    all_images_pathes = []\n",
    "    for i in range(len(sub_names)):\n",
    "        sub = sub_names[i]\n",
    "        if sub in sub_no_sess2_test:\n",
    "            sess_len = len(session_names) - 1\n",
    "        else:\n",
    "            sess_len = len(session_names)\n",
    "        for j in range(sess_len):\n",
    "            sess = session_names[j]\n",
    "            for k in range(len(frame_names)):\n",
    "                frame = frame_names[k]\n",
    "                image_path = GetImagePath(sub, sess, frame)\n",
    "                all_images_pathes.append(image_path)\n",
    "                \n",
    "    return all_images_pathes\n",
    "\n",
    "def LoopOverEachPair(all_train_im_path):\n",
    "    \"\"\"\n",
    "    Function:\n",
    "        loop over each pair of images, find labels, and save them\n",
    "    \"\"\"\n",
    "    # loop over each pair, define the label and save as data.txt file\n",
    "    data = []\n",
    "    dataset_file = open(\"data.txt\", \"w+\")\n",
    "    with tqdm(total=460) as pbar:\n",
    "        while len(all_train_im_path) > 0:\n",
    "            current_image_path = all_train_im_path[0]\n",
    "            all_train_im_path.remove(current_image_path)\n",
    "            for another_img_path in all_train_im_path:\n",
    "                data = ClassifyAndSave(current_image_path, another_img_path)\n",
    "                dataset_file.write(data[0] + \",\" + data[1] + \",\" + data[2] + \",\" + \"\\n\")\n",
    "            pbar.update(1)\n",
    "\n",
    "def CreatDataset():\n",
    "    \"\"\"\n",
    "    Function:\n",
    "        create the dataset.\n",
    "    \"\"\"\n",
    "    # get all training image pathes\n",
    "    all_train_im_path = GetAllImagePathes(sub_names_train, session_names, frame_names_train)\n",
    "    print(\"There are totally \", len(all_train_im_path), \" training images.\")\n",
    "\n",
    "    # get dataset and save it into a data.txt file\n",
    "    print(\"------------- starting storing dataset -------------\")\n",
    "    LoopOverEachPair(all_train_im_path)\n",
    "    print(\"-------------- end of storing dataset --------------\")\n",
    "    \n",
    "\n",
    "# read the saved data.txt, if exits and contains all data, skip the annotation part\n",
    "if os.path.exists('data.txt'):\n",
    "    statinfo = os.stat('data.txt')\n",
    "    # get size as MB\n",
    "    exist_dataset_size = statinfo.st_size / 1024 / 1024\n",
    "    # total size is around 8 MB\n",
    "    if exist_dataset_size > 8:\n",
    "        print(\"------------------------ dataset already exists -------------------------\")\n",
    "    else:\n",
    "        CreatDataset()\n",
    "else:\n",
    "    CreatDataset()\n"
   ]
  },
  {
   "cell_type": "code",
   "execution_count": 5,
   "metadata": {},
   "outputs": [
    {
     "name": "stdout",
     "output_type": "stream",
     "text": [
      "There are totally  105570  pairs of images inside the datset,\n",
      "With  24770  pairs showing same faces,\n",
      "And  80800  pairs showing different faces,\n"
     ]
    }
   ],
   "source": [
    "\n",
    "def ReadDatasetTxt(data_filename, NCC_threshold):\n",
    "    \"\"\"\n",
    "    Function:\n",
    "        read the dataset saved above, to find out some\n",
    "        basical info about the dataset.\n",
    "    \"\"\"\n",
    "    data_file = open(data_filename, \"r\")\n",
    "    same_faces = []\n",
    "    diff_faces = []\n",
    "    for line in data_file:\n",
    "        current_line = line.split(\",\")\n",
    "        # find out it is same faces pair or different faces pair\n",
    "        if float(current_line[2]) > NCC_threshold:\n",
    "            same_faces.append([current_line[0], current_line[1], str(1)])\n",
    "        else:\n",
    "            diff_faces.append([current_line[0], current_line[1], str(0)])\n",
    "    data_file.close()\n",
    "    return same_faces, diff_faces\n",
    "\n",
    "# setting threshold for same faces\n",
    "NCC_threshold = 0.66\n",
    "data_f_name = \"data.txt\"\n",
    "same_faces, diff_faces = ReadDatasetTxt(data_f_name, NCC_threshold)\n",
    "\n",
    "print(\"There are totally \", len(same_faces) + len(diff_faces), \" pairs of images inside the datset,\")\n",
    "print(\"With \", len(same_faces), \" pairs showing same faces,\")\n",
    "print(\"And \", len(diff_faces), \" pairs showing different faces,\")\n"
   ]
  },
  {
   "cell_type": "code",
   "execution_count": 6,
   "metadata": {},
   "outputs": [
    {
     "name": "stdout",
     "output_type": "stream",
     "text": [
      "label of this pair is: \t different faces\n"
     ]
    },
    {
     "data": {
      "image/png": "[encoded data removed]",
      "text/plain": [
       "<Figure size 432x288 with 1 Axes>"
      ]
     },
     "metadata": {
      "needs_background": "light"
     },
     "output_type": "display_data"
    },
    {
     "name": "stdout",
     "output_type": "stream",
     "text": [
      "label of this pair is: \t different faces\n"
     ]
    },
    {
     "data": {
      "image/png": "[encoded data removed]",
      "text/plain": [
       "<Figure size 432x288 with 1 Axes>"
      ]
     },
     "metadata": {
      "needs_background": "light"
     },
     "output_type": "display_data"
    }
   ],
   "source": [
    "\n",
    "def PlotAndVerifyRandomPair(dataset):\n",
    "    \"\"\"\n",
    "    Function: \n",
    "        plot random pair images with the label to verify the datset is set\n",
    "    right or wrong.\n",
    "    \"\"\"\n",
    "    # select a random index\n",
    "    ind = np.random.randint(len(dataset))\n",
    "    # read image pair\n",
    "    img1 = ReadImage(dataset[ind][0])\n",
    "    img2 = ReadImage(dataset[ind][1])\n",
    "    # read label\n",
    "    label = float(dataset[ind][2])\n",
    "    if label > 1:\n",
    "        label_show = \"same face\"\n",
    "    else:\n",
    "        label_show = \"different faces\"\n",
    "    # plot images\n",
    "    display_imgs = np.concatenate([img1, img2], axis = 1)\n",
    "    print(\"label of this pair is: \\t\", label_show)\n",
    "    plt.imshow(display_imgs)\n",
    "    plt.show()\n",
    "    \n",
    "PlotAndVerifyRandomPair(same_faces)\n",
    "PlotAndVerifyRandomPair(diff_faces)\n",
    "    "
   ]
  },
  {
   "cell_type": "code",
   "execution_count": 7,
   "metadata": {},
   "outputs": [
    {
     "name": "stdout",
     "output_type": "stream",
     "text": [
      "Size of training set is: \t 104515\n",
      "Size of validation set is: \t 1055\n"
     ]
    }
   ],
   "source": [
    "import random\n",
    "\n",
    "def CreateTrainAndValidationSet(same_faces, diff_faces, validation_rate = 0.01):\n",
    "    \"\"\"\n",
    "    Function:\n",
    "        Shuffle the dataset and separate the dataset into training set and \n",
    "    validation set\n",
    "    \"\"\"\n",
    "    # backup the data for shuffling\n",
    "    same_faces_shuf = same_faces\n",
    "    diff_faces_shuf = diff_faces\n",
    "    # define number of validation data w.r.t each class\n",
    "    same_validate_num = int(len(same_faces) * validation_rate)\n",
    "    diff_validate_num = int(len(diff_faces) * validation_rate)\n",
    "    # get shuffled data\n",
    "    random.shuffle(same_faces_shuf)\n",
    "    random.shuffle(diff_faces_shuf)\n",
    "    # define training and validation set\n",
    "    valid_set = same_faces_shuf[:same_validate_num] + diff_faces_shuf[:diff_validate_num]\n",
    "    train_set = same_faces_shuf[same_validate_num:] + diff_faces_shuf[diff_validate_num:]\n",
    "    # shuffle the training set and validation set again\n",
    "    random.shuffle(train_set)\n",
    "    random.shuffle(valid_set)\n",
    "    return train_set, valid_set\n",
    "\n",
    "train_set_pathes, valid_set_pathes = CreateTrainAndValidationSet(same_faces, diff_faces)\n",
    "\n",
    "print(\"Size of training set is: \\t\", len(train_set_pathes))\n",
    "print(\"Size of validation set is: \\t\", len(valid_set_pathes))\n"
   ]
  },
  {
   "cell_type": "code",
   "execution_count": 16,
   "metadata": {},
   "outputs": [
    {
     "name": "stdout",
     "output_type": "stream",
     "text": [
      "(1055, 24576)\n"
     ]
    }
   ],
   "source": [
    "\n",
    "def GetInputAndOutput(data_pathes):\n",
    "    \"\"\"\n",
    "    Function:\n",
    "        get all input data and labels\n",
    "    \"\"\"\n",
    "    inputs = []\n",
    "    labels = []\n",
    "    # get every data in each batch\n",
    "    for i in range(len(data_pathes)):\n",
    "        current_data = data_pathes[i]\n",
    "        # read images (resized)\n",
    "        img1 = ReadImage(current_data[0])\n",
    "        img2 = ReadImage(current_data[1])\n",
    "        # concatenate images\n",
    "        img_concat = np.concatenate([img1, img2], axis = 0)\n",
    "        # reshape input data\n",
    "        each_input = img_concat.reshape((-1,))\n",
    "        # get label as one hot format\n",
    "        label_ind = int(current_data[2])\n",
    "        label = np.zeros((2,)).astype(np.float32)\n",
    "        label[label_ind] = 1.\n",
    "        # orgnizing input and output\n",
    "        inputs.append(each_input)\n",
    "        labels.append(label)\n",
    "    inputs = np.array(inputs)\n",
    "    labels = np.array(labels)\n",
    "    return (inputs, labels)\n",
    "\n",
    "# get validation set first\n",
    "validation_set = GetInputAndOutput(valid_set_pathes)\n",
    "print(validation_set[0].shape)\n"
   ]
  },
  {
   "cell_type": "code",
   "execution_count": 45,
   "metadata": {},
   "outputs": [
    {
     "name": "stdout",
     "output_type": "stream",
     "text": [
      "Epoch 1/1\n",
      "408/408 [==============================] - 2061s 5s/step - loss: 0.3947 - acc: 0.8212 - val_loss: 0.3090 - val_acc: 0.8445\n"
     ]
    }
   ],
   "source": [
    "##### set specific gpu #####\n",
    "import os\n",
    "os.environ[\"CUDA_DEVICE_ORDER\"]=\"PCI_BUS_ID\"\n",
    "os.environ[\"CUDA_VISIBLE_DEVICES\"]=\"-1\"\n",
    "##### start other dependencies #####\n",
    "import keras\n",
    "from keras.models import Sequential\n",
    "from keras.layers import Dense\n",
    "from keras.optimizers import Adam\n",
    "from keras.callbacks import TensorBoard\n",
    "\n",
    "def InputAndOutputGenerator(data_pathes, batch_size = 10):\n",
    "    \"\"\"\n",
    "    Function:\n",
    "        Since when transfer into images, dataset is too big to read it all at once, a generator\n",
    "    is created to generate the data according to the batch_size\n",
    "    \"\"\"\n",
    "    # get number of batches\n",
    "    num_batch = len(data_pathes) // batch_size\n",
    "    for batch_id in range(num_batch):\n",
    "        # get batch data\n",
    "        data_path_batch = data_pathes[batch_id*batch_size: (batch_id+1)*batch_size]\n",
    "        batch_inputs = []\n",
    "        batch_labels = []\n",
    "        # get every data in each batch\n",
    "        for i in range(len(data_path_batch)):\n",
    "            current_data = data_path_batch[i]\n",
    "            # read images (resized)\n",
    "            img1 = ReadImage(current_data[0])\n",
    "            img2 = ReadImage(current_data[1])\n",
    "            # concatenate images\n",
    "            img_concat = np.concatenate([img1, img2], axis = 0)\n",
    "            # reshape input data\n",
    "            each_input = img_concat.reshape((-1,))\n",
    "            # get label as one hot format\n",
    "            label_ind = int(current_data[2])\n",
    "            label = np.zeros((2,)).astype(np.float32)\n",
    "            label[label_ind] = 1.\n",
    "            # orgnizing input and output\n",
    "            batch_inputs.append(each_input)\n",
    "            batch_labels.append(label)\n",
    "        batch_inputs = np.array(batch_inputs)\n",
    "        batch_labels = np.array(batch_labels)\n",
    "        yield (batch_inputs, batch_labels)\n",
    "\n",
    "def MLPModel():\n",
    "    \"\"\"\n",
    "    Building the MLP model\n",
    "    \"\"\"\n",
    "    model = Sequential()\n",
    "    # structure: (batch, 128*64*3) -> (batch, 1024) -> (batch, 256) -> (batch, 64) -> (batch, 10)\n",
    "    model.add(Dense(units = 256, activation = \"relu\", input_dim = 128 * 64 * 3))\n",
    "    model.add(Dense(units = 64, activation = \"relu\"))\n",
    "    model.add(Dense(units = 2, activation = \"softmax\"))\n",
    "    # using cross entropy as loss and adam as optimizer\n",
    "    model.compile(loss='categorical_crossentropy',\n",
    "                  optimizer=Adam(lr = 1e-3),\n",
    "                  metrics=['accuracy'])\n",
    "    return model\n",
    "\n",
    "class LossAccHistory(keras.callbacks.Callback):\n",
    "    \"\"\"\n",
    "    Class: \n",
    "        for storing loss and accuracy after each batch, since default settings\n",
    "    of these values in keras is after each epoch.\n",
    "    \"\"\"\n",
    "    def on_train_begin(self, logs={}):\n",
    "        self.loss = []\n",
    "        self.acc = []\n",
    "\n",
    "    def on_batch_end(self, batch, logs={}):\n",
    "        self.loss.append(logs.get('loss'))\n",
    "        self.acc.append(logs.get('acc'))\n",
    "\n",
    "# define model.fit_generator parameters.\n",
    "batch_size = 256\n",
    "num_batch_train = len(train_set_pathes) // batch_size\n",
    "num_batch_valid = len(valid_set_pathes) // batch_size\n",
    "\n",
    "# logs for later plot\n",
    "history = LossAccHistory()\n",
    "\n",
    "# get model\n",
    "model = MLPModel()\n",
    "\n",
    "# training and validating with generator\n",
    "model_history = model.fit_generator(InputAndOutputGenerator(train_set_pathes, batch_size),\n",
    "                    steps_per_epoch=num_batch_train,\n",
    "                    validation_data=validation_set,\n",
    "                    epochs=50,\n",
    "                    callbacks = [history]\n",
    "                    )\n",
    "\n",
    "# training and validating on each batch\n",
    "# epoches = 1\n",
    "# for each_epoch in tqdm(range(epoches)):\n",
    "#     for data_train in InputAndOutputGenerator(train_set_pathes, batch_size):\n",
    "#         x_batch, y_batch = data_train\n",
    "#         model.train_on_batch(x_batch, y_batch)\n",
    "#         loss_and_metrics = model.evaluate(validation_set[0], validation_set[1], verbose=0)\n",
    "#         print(loss_and_metrics)"
   ]
  },
  {
   "cell_type": "code",
   "execution_count": 48,
   "metadata": {},
   "outputs": [
    {
     "name": "stdout",
     "output_type": "stream",
     "text": [
      "{'val_acc': [0.8445497630896727], 'val_loss': [0.30897435641966725], 'loss': [0.3947493981058691], 'acc': [0.8211645986519608]}\n"
     ]
    },
    {
     "data": {
      "image/png": "[encoded data removed]",
      "text/plain": [
       "<Figure size 432x288 with 1 Axes>"
      ]
     },
     "metadata": {
      "needs_background": "light"
     },
     "output_type": "display_data"
    },
    {
     "data": {
      "image/png": "[encoded data removed]",
      "text/plain": [
       "<Figure size 432x288 with 1 Axes>"
      ]
     },
     "metadata": {
      "needs_background": "light"
     },
     "output_type": "display_data"
    },
    {
     "name": "stdout",
     "output_type": "stream",
     "text": [
      "[0.30897437133495276, 0.8445497630896727]\n"
     ]
    }
   ],
   "source": [
    "\n",
    "print(model_history.history)\n",
    "plt.plot(history.loss)\n",
    "plt.show()\n",
    "plt.plot(history.acc)\n",
    "plt.show()\n"
   ]
  },
  {
   "cell_type": "code",
   "execution_count": null,
   "metadata": {},
   "outputs": [],
   "source": []
  },
  {
   "cell_type": "code",
   "execution_count": null,
   "metadata": {},
   "outputs": [],
   "source": [
    "import re\n",
    "\n",
    "def TestAnnotate(img1_path, img2_path):\n",
    "    \"\"\"\n",
    "    Function:\n",
    "        Get the annotation of the test set.\n",
    "    Principle:\n",
    "        If two images belong to the same subset, they are showing the same face.\n",
    "    \"\"\"\n",
    "    # find the subset number\n",
    "    img1_sub_searcher = re.search(\"\\d\", img1_path)\n",
    "    img2_sub_searcher = re.search(\"\\d\", img2_path)\n",
    "    img1_sub_ind = int(img1_path[img1_sub_searcher.start()])\n",
    "    img2_sub_ind = int(img2_path[img2_sub_searcher.start()])\n",
    "    # compare subset number\n",
    "    if img1_sub_ind == img2_sub_ind:\n",
    "        label = 1\n",
    "    else:\n",
    "        label = 0\n",
    "    return [img1_path, img2_path, str(label)]\n",
    "    \n",
    "\n",
    "def TestSetLoop(all_test_im_path):\n",
    "    \"\"\"\n",
    "    Function:\n",
    "        loop over each pair of test images, define labels, and save them\n",
    "    \"\"\"\n",
    "    data = []\n",
    "    dataset_file = open(\"data_test.txt\", \"w+\")\n",
    "    with tqdm(total=len(all_test_im_path)) as pbar:\n",
    "        while len(all_test_im_path) > 0:\n",
    "            current_image_path = all_test_im_path[0]\n",
    "            all_test_im_path.remove(current_image_path)\n",
    "            for another_img_path in all_test_im_path:\n",
    "                data = TestAnnotate(current_image_path, another_img_path)\n",
    "                dataset_file.write(data[0] + \",\" + data[1] + \",\" + data[2] + \",\" + \"\\n\")\n",
    "            pbar.update(1)\n",
    "\n",
    "def CreateTestSet():\n",
    "    \"\"\"\n",
    "    Function:\n",
    "        create the test set file\n",
    "    \"\"\"\n",
    "    all_test_im_path = GetAllImagePathes(sub_names_test, session_names, frame_names_test)\n",
    "    print(\"There are totally \", len(all_test_im_path), \" testing images.\")\n",
    "\n",
    "    # get dataset and save it into a data.txt file\n",
    "    print(\"------------- starting storing dataset (test) -------------\")\n",
    "    TestSetLoop(all_test_im_path)\n",
    "    print(\"-------------- end of storing dataset (test) --------------\")\n",
    "    \n",
    "    \n",
    "# read the saved data_test.txt, if exits and contains all data, skip the annotation part\n",
    "if os.path.exists('data_test.txt'):\n",
    "    testinfo = os.stat('data_test.txt')\n",
    "    # get size as MB\n",
    "    exist_testset_size = testinfo.st_size / 1024 / 1024\n",
    "    # total size is around 6 MB\n",
    "    if exist_testset_size > 6:\n",
    "        print(\"------------------------ dataset already exists -------------------------\")\n",
    "    else:\n",
    "        CreateTestSet()\n",
    "else:\n",
    "    CreateTestSet()\n",
    "    \n"
   ]
  },
  {
   "cell_type": "code",
   "execution_count": null,
   "metadata": {},
   "outputs": [],
   "source": []
  }
 ],
 "metadata": {
  "kernelspec": {
   "display_name": "Python 3",
   "language": "python",
   "name": "python3"
  },
  "language_info": {
   "codemirror_mode": {
    "name": "ipython",
    "version": 3
   },
   "file_extension": ".py",
   "mimetype": "text/x-python",
   "name": "python",
   "nbconvert_exporter": "python",
   "pygments_lexer": "ipython3",
   "version": "3.5.2"
  }
 },
 "nbformat": 4,
 "nbformat_minor": 2
}
