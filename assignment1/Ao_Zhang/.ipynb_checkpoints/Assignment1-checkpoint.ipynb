{
 "cells": [
  {
   "cell_type": "code",
   "execution_count": 4,
   "metadata": {},
   "outputs": [
    {
     "name": "stdout",
     "output_type": "stream",
     "text": [
      "Requirement already satisfied: sklearn in /home/ao/.local/lib/python3.5/site-packages (0.0)\n",
      "Requirement already satisfied: scikit-learn in /home/ao/.local/lib/python3.5/site-packages (from sklearn) (0.21.2)\n",
      "Requirement already satisfied: numpy>=1.11.0 in /home/ao/.local/lib/python3.5/site-packages (from scikit-learn->sklearn) (1.15.3)\n",
      "Requirement already satisfied: scipy>=0.17.0 in /home/ao/.local/lib/python3.5/site-packages (from scikit-learn->sklearn) (1.1.0)\n",
      "Requirement already satisfied: joblib>=0.11 in /home/ao/.local/lib/python3.5/site-packages (from scikit-learn->sklearn) (0.13.2)\n",
      "Collecting scikit-image\n",
      "\u001b[?25l  Downloading https://files.pythonhosted.org/packages/00/ba/9688afba6ab3714875a8d22284ce0362086e47f3cda60243e5d4de5e5943/scikit_image-0.15.0-cp35-cp35m-manylinux1_x86_64.whl (26.2MB)\n",
      "\u001b[K     |████████████████████████████████| 26.2MB 737kB/s eta 0:00:01     |███████████████████████████████ | 25.4MB 24kB/s eta 0:00:33\n",
      "\u001b[?25hCollecting imageio>=2.0.1 (from scikit-image)\n",
      "\u001b[?25l  Downloading https://files.pythonhosted.org/packages/af/0a/943c965d372dae0b1f1482677d29030ab834351a61a9a632fd62f27f1523/imageio-2.5.0-py3-none-any.whl (3.3MB)\n",
      "\u001b[K     |████████████████████████████████| 3.3MB 243kB/s eta 0:00:01\n",
      "\u001b[?25hRequirement already satisfied: scipy>=0.17.0 in /home/ao/.local/lib/python3.5/site-packages (from scikit-image) (1.1.0)\n",
      "Collecting PyWavelets>=0.4.0 (from scikit-image)\n",
      "\u001b[?25l  Downloading https://files.pythonhosted.org/packages/6a/3f/d92fbd9b65f879197620f404c1603bfeaa54560743bb9fb3a6b48b66a707/PyWavelets-1.0.3-cp35-cp35m-manylinux1_x86_64.whl (4.4MB)\n",
      "\u001b[K     |████████████████████████████████| 4.4MB 82kB/s eta 0:00:011\n",
      "\u001b[?25hCollecting matplotlib!=3.0.0,>=2.0.0 (from scikit-image)\n",
      "\u001b[?25l  Downloading https://files.pythonhosted.org/packages/89/61/465fb3bfba684b0f53b5c4829c3c89e86e6fe9fdcdfda93e38f1788090f0/matplotlib-3.0.3-cp35-cp35m-manylinux1_x86_64.whl (13.0MB)\n",
      "\u001b[K     |████████████████████████████████| 13.0MB 663kB/s eta 0:00:01\n",
      "\u001b[?25hCollecting pillow>=4.3.0 (from scikit-image)\n",
      "\u001b[?25l  Downloading https://files.pythonhosted.org/packages/d6/98/0d360dbc087933679398d73187a503533ec0547ba4ffd2115365605559cc/Pillow-6.1.0-cp35-cp35m-manylinux1_x86_64.whl (2.1MB)\n",
      "\u001b[K     |████████████████████████████████| 2.1MB 1.0MB/s eta 0:00:01\n",
      "\u001b[?25hCollecting networkx>=2.0 (from scikit-image)\n",
      "\u001b[?25l  Downloading https://files.pythonhosted.org/packages/85/08/f20aef11d4c343b557e5de6b9548761811eb16e438cee3d32b1c66c8566b/networkx-2.3.zip (1.7MB)\n",
      "\u001b[K     |████████████████████████████████| 1.8MB 855kB/s eta 0:00:01\n",
      "\u001b[?25hRequirement already satisfied: numpy in /home/ao/.local/lib/python3.5/site-packages (from imageio>=2.0.1->scikit-image) (1.15.3)\n",
      "Requirement already satisfied: kiwisolver>=1.0.1 in /home/ao/.local/lib/python3.5/site-packages (from matplotlib!=3.0.0,>=2.0.0->scikit-image) (1.0.1)\n",
      "Requirement already satisfied: cycler>=0.10 in /home/ao/.local/lib/python3.5/site-packages (from matplotlib!=3.0.0,>=2.0.0->scikit-image) (0.10.0)\n",
      "Requirement already satisfied: pyparsing!=2.0.4,!=2.1.2,!=2.1.6,>=2.0.1 in /home/ao/.local/lib/python3.5/site-packages (from matplotlib!=3.0.0,>=2.0.0->scikit-image) (2.2.2)\n",
      "Requirement already satisfied: python-dateutil>=2.1 in /home/ao/.local/lib/python3.5/site-packages (from matplotlib!=3.0.0,>=2.0.0->scikit-image) (2.7.3)\n",
      "Requirement already satisfied: decorator>=4.3.0 in /home/ao/.local/lib/python3.5/site-packages (from networkx>=2.0->scikit-image) (4.4.0)\n",
      "Requirement already satisfied: setuptools in /home/ao/.local/lib/python3.5/site-packages (from kiwisolver>=1.0.1->matplotlib!=3.0.0,>=2.0.0->scikit-image) (41.0.1)\n",
      "Requirement already satisfied: six in /home/ao/.local/lib/python3.5/site-packages (from cycler>=0.10->matplotlib!=3.0.0,>=2.0.0->scikit-image) (1.11.0)\n",
      "Building wheels for collected packages: networkx\n",
      "  Building wheel for networkx (setup.py) ... \u001b[?25ldone\n",
      "\u001b[?25h  Created wheel for networkx: filename=networkx-2.3-py2.py3-none-any.whl size=1556754 sha256=0fac75fa617cdd3f0fc8243518210e5ae3e9348296be58cb5c0eac2efa808600\n",
      "  Stored in directory: /home/ao/.cache/pip/wheels/de/63/64/3699be2a9d0ccdb37c7f16329acf3863fd76eda58c39c737af\n",
      "Successfully built networkx\n",
      "Installing collected packages: pillow, imageio, PyWavelets, matplotlib, networkx, scikit-image\n",
      "  Found existing installation: matplotlib 3.0.0\n",
      "    Uninstalling matplotlib-3.0.0:\n",
      "      Successfully uninstalled matplotlib-3.0.0\n",
      "Successfully installed PyWavelets-1.0.3 imageio-2.5.0 matplotlib-3.0.3 networkx-2.3 pillow-6.1.0 scikit-image-0.15.0\n"
     ]
    }
   ],
   "source": [
    "!pip3 install --user sklearn\n",
    "!pip3 install --user scikit-image"
   ]
  },
  {
   "cell_type": "code",
   "execution_count": 5,
   "metadata": {},
   "outputs": [],
   "source": [
    "import sklearn as sk\n",
    "from skimage.io import imread\n",
    "import os\n",
    "import glob\n",
    "\n"
   ]
  },
  {
   "cell_type": "code",
   "execution_count": null,
   "metadata": {},
   "outputs": [],
   "source": []
  }
 ],
 "metadata": {
  "kernelspec": {
   "display_name": "Python 3",
   "language": "python",
   "name": "python3"
  },
  "language_info": {
   "codemirror_mode": {
    "name": "ipython",
    "version": 3
   },
   "file_extension": ".py",
   "mimetype": "text/x-python",
   "name": "python",
   "nbconvert_exporter": "python",
   "pygments_lexer": "ipython3",
   "version": "3.5.2"
  }
 },
 "nbformat": 4,
 "nbformat_minor": 2
}
